{
 "cells": [
  {
   "cell_type": "markdown",
   "id": "adf0fc4e",
   "metadata": {},
   "source": [
    "#### EDA And Feature Engineering"
   ]
  },
  {
   "cell_type": "markdown",
   "id": "82e3f5f5",
   "metadata": {},
   "source": [
    "#### Feature Engineering 30% in machine learning \n",
    "steps\n",
    "1. EDA (Exploratry data analysis)\n",
    "Raw Data analyize\n",
    "            i) numarical feature may be there{histogram,pdf}---seaborn\n",
    "                   ii) categorical feature\n",
    "                   iii) missing values{visulize all the graph}\n",
    "                   iv) outliers(Box Plot}\n",
    "                   v) cleaning\n",
    "2. Handling the missing values\n",
    "  i) mean  ii) median  iii) mode\n",
    "3. Handling imbalanced dataset\n",
    "4. Treating the outliers\n",
    "5. scaling down the data{standandization, normalizations}\n",
    "6. Converting the categorical features into numarical feature\n",
    "\n",
    "##### Feature selection\n",
    "1. Correlation\n",
    "2. K Neighbour\n",
    "3. Chisquare\n",
    "4. Genetic Algorithm\n",
    "5. Feature importance(extratree classifier)\n",
    "\n",
    "\n"
   ]
  }
 ],
 "metadata": {
  "kernelspec": {
   "display_name": "Python 3 (ipykernel)",
   "language": "python",
   "name": "python3"
  },
  "language_info": {
   "codemirror_mode": {
    "name": "ipython",
    "version": 3
   },
   "file_extension": ".py",
   "mimetype": "text/x-python",
   "name": "python",
   "nbconvert_exporter": "python",
   "pygments_lexer": "ipython3",
   "version": "3.9.7"
  }
 },
 "nbformat": 4,
 "nbformat_minor": 5
}
